{
  "nbformat": 4,
  "nbformat_minor": 0,
  "metadata": {
    "colab": {
      "name": "NumPy.ipynb",
      "provenance": [],
      "authorship_tag": "ABX9TyMHq6B3HpJprGkLIG8Sb9hL",
      "include_colab_link": true
    },
    "kernelspec": {
      "name": "python3",
      "display_name": "Python 3"
    },
    "language_info": {
      "name": "python"
    }
  },
  "cells": [
    {
      "cell_type": "markdown",
      "metadata": {
        "id": "view-in-github",
        "colab_type": "text"
      },
      "source": [
        "<a href=\"https://colab.research.google.com/github/tarsojabbes/data-visualization/blob/main/NumPy.ipynb\" target=\"_parent\"><img src=\"https://colab.research.google.com/assets/colab-badge.svg\" alt=\"Open In Colab\"/></a>"
      ]
    },
    {
      "cell_type": "markdown",
      "source": [
        "# **NumPy**"
      ],
      "metadata": {
        "id": "SxlDGTaOM5dG"
      }
    },
    {
      "cell_type": "markdown",
      "source": [
        "## **Arithmetic Functions**"
      ],
      "metadata": {
        "id": "A4AnoQw7NPzb"
      }
    },
    {
      "cell_type": "code",
      "execution_count": 2,
      "metadata": {
        "id": "k7yRr435M3f1"
      },
      "outputs": [],
      "source": [
        "import numpy as np"
      ]
    },
    {
      "cell_type": "code",
      "source": [
        "a = np.arange(10)"
      ],
      "metadata": {
        "id": "pIwcK2iZNxVE"
      },
      "execution_count": 3,
      "outputs": []
    },
    {
      "cell_type": "code",
      "source": [
        "b = np.random.randint(0,10,(1,10)) # From 0 to 9 in the shape of 1 by 10"
      ],
      "metadata": {
        "id": "ppruWWcuN3CI"
      },
      "execution_count": 5,
      "outputs": []
    },
    {
      "cell_type": "code",
      "source": [
        "c = a[np.newaxis, :]\n",
        "print(c.shape) # Now, C will be also 1 by 10, meanwhile a is (10,)"
      ],
      "metadata": {
        "colab": {
          "base_uri": "https://localhost:8080/"
        },
        "id": "GxbIkX8_OBX7",
        "outputId": "5ded5cca-14fe-45f2-aaa0-c50ebf346d2e"
      },
      "execution_count": 8,
      "outputs": [
        {
          "output_type": "stream",
          "name": "stdout",
          "text": [
            "(1, 10)\n"
          ]
        }
      ]
    },
    {
      "cell_type": "code",
      "source": [
        "d = b + c\n",
        "print(d)"
      ],
      "metadata": {
        "colab": {
          "base_uri": "https://localhost:8080/"
        },
        "id": "ufHM6nzxOW0t",
        "outputId": "7031cd41-af84-4449-a6d7-b660322bdd04"
      },
      "execution_count": 11,
      "outputs": [
        {
          "output_type": "stream",
          "name": "stdout",
          "text": [
            "[[ 3 10  3 11 12  6 15  7  9 11]]\n"
          ]
        }
      ]
    },
    {
      "cell_type": "code",
      "source": [
        "d = d.squeeze # it'll supress the newaxis created before"
      ],
      "metadata": {
        "id": "M4vVSXQKOhEk"
      },
      "execution_count": 12,
      "outputs": []
    },
    {
      "cell_type": "markdown",
      "source": [
        "Add Function -> It'll add two array into one; it's the same as b + c, no differencec."
      ],
      "metadata": {
        "id": "maEqC9SeO59b"
      }
    },
    {
      "cell_type": "code",
      "source": [
        "e = np.add(b, c)\n",
        "print(e)"
      ],
      "metadata": {
        "colab": {
          "base_uri": "https://localhost:8080/"
        },
        "id": "MRMVCipwO74R",
        "outputId": "4eb3783e-51a9-42a4-8cab-aa6c8be0a944"
      },
      "execution_count": 17,
      "outputs": [
        {
          "output_type": "stream",
          "name": "stdout",
          "text": [
            "[[ 3 10  3 11 12  6 15  7  9 11]]\n"
          ]
        }
      ]
    },
    {
      "cell_type": "markdown",
      "source": [
        "Sum Function -> It'll sum all the values of a given array."
      ],
      "metadata": {
        "id": "fLKBrIZxPNdA"
      }
    },
    {
      "cell_type": "code",
      "source": [
        "f = np.sum(b)\n",
        "print(f)"
      ],
      "metadata": {
        "colab": {
          "base_uri": "https://localhost:8080/"
        },
        "id": "2JkF4YD-POw4",
        "outputId": "afb6a939-9875-4db8-f162-45f523e6145f"
      },
      "execution_count": 19,
      "outputs": [
        {
          "output_type": "stream",
          "name": "stdout",
          "text": [
            "42\n"
          ]
        }
      ]
    },
    {
      "cell_type": "code",
      "source": [
        "g = np.arange(100).reshape(2,2,5,5) # 4D array, axis will go from 0 to 3"
      ],
      "metadata": {
        "id": "hp4WigN_PwA8"
      },
      "execution_count": 21,
      "outputs": []
    },
    {
      "cell_type": "code",
      "source": [
        "h =  g.sum(axis=0) # We'll lose the first dimension, and this will return a 2 by 5 by 5 array"
      ],
      "metadata": {
        "id": "z7LwZXdPQZQt"
      },
      "execution_count": 22,
      "outputs": []
    },
    {
      "cell_type": "markdown",
      "source": [
        "Subtract Function -> It'll subtract the values of two given arrays by they respective relative by the index."
      ],
      "metadata": {
        "id": "MiMxMP_hS7f8"
      }
    },
    {
      "cell_type": "code",
      "source": [
        "i = np.random.rand(10)\n",
        "j = np.random.rand(10)\n",
        "k = np.subtract(i,j)\n",
        "print(k)"
      ],
      "metadata": {
        "colab": {
          "base_uri": "https://localhost:8080/"
        },
        "id": "ZBcpqTTdSBPO",
        "outputId": "d45ac8f5-74c5-45e0-9f8e-d6bc74d58069"
      },
      "execution_count": 25,
      "outputs": [
        {
          "output_type": "stream",
          "name": "stdout",
          "text": [
            "[-0.564153   -0.86104192  0.16573159 -0.1406437  -0.1646671  -0.21734146\n",
            "  0.08995004  0.44351403  0.39149186  0.15191282]\n"
          ]
        }
      ]
    },
    {
      "cell_type": "markdown",
      "source": [
        "Multiply Function"
      ],
      "metadata": {
        "id": "kYELFETITHsk"
      }
    },
    {
      "cell_type": "code",
      "source": [
        "l = np.multiply(i,j)\n",
        "print(l)"
      ],
      "metadata": {
        "colab": {
          "base_uri": "https://localhost:8080/"
        },
        "id": "umHtoBZqTJy0",
        "outputId": "d1b4ad37-f71e-438c-a83a-6a8828cb0943"
      },
      "execution_count": 26,
      "outputs": [
        {
          "output_type": "stream",
          "name": "stdout",
          "text": [
            "[0.1442083  0.13659029 0.22339064 0.45634476 0.34291543 0.0610035\n",
            " 0.00084339 0.37901794 0.01296415 0.00287046]\n"
          ]
        }
      ]
    },
    {
      "cell_type": "markdown",
      "source": [
        "Power function"
      ],
      "metadata": {
        "id": "znUsR1KnTcsK"
      }
    },
    {
      "cell_type": "code",
      "source": [
        "m = np.power(i,j)\n",
        "print(m)"
      ],
      "metadata": {
        "colab": {
          "base_uri": "https://localhost:8080/"
        },
        "id": "uQSZJ3ZzTVAc",
        "outputId": "f39dd572-22f1-42ff-d6e3-f47fff407c36"
      },
      "execution_count": 28,
      "outputs": [
        {
          "output_type": "stream",
          "name": "stdout",
          "text": [
            "[0.28644605 0.13744346 0.79591886 0.68943842 0.6344975  0.50112664\n",
            " 0.9803539  0.94439364 0.97387001 0.97022939]\n"
          ]
        }
      ]
    },
    {
      "cell_type": "markdown",
      "source": [
        "## **Trigonometric Functions**"
      ],
      "metadata": {
        "id": "0m3Vg6TtYKAz"
      }
    },
    {
      "cell_type": "code",
      "source": [
        "n = np.random.rand(5)"
      ],
      "metadata": {
        "id": "vwIhiqNTYNxY"
      },
      "execution_count": 29,
      "outputs": []
    },
    {
      "cell_type": "markdown",
      "source": [
        "Sin Function"
      ],
      "metadata": {
        "id": "Q7S5NUffY8rD"
      }
    },
    {
      "cell_type": "code",
      "source": [
        "np.sin(n)"
      ],
      "metadata": {
        "colab": {
          "base_uri": "https://localhost:8080/"
        },
        "id": "dgKzO0VSY4xv",
        "outputId": "f5455559-6102-43e2-b0ae-a0cd419b821a"
      },
      "execution_count": 30,
      "outputs": [
        {
          "output_type": "execute_result",
          "data": {
            "text/plain": [
              "array([0.22150271, 0.49967373, 0.39333463, 0.55288005, 0.47365397])"
            ]
          },
          "metadata": {},
          "execution_count": 30
        }
      ]
    },
    {
      "cell_type": "markdown",
      "source": [
        "Cos Function"
      ],
      "metadata": {
        "id": "uLbKUJCuZCnb"
      }
    },
    {
      "cell_type": "code",
      "source": [
        "np.cos(n)"
      ],
      "metadata": {
        "colab": {
          "base_uri": "https://localhost:8080/"
        },
        "id": "Tp-uBUsUZEWQ",
        "outputId": "94b0ae68-665b-4625-f812-18e49fb6cb0b"
      },
      "execution_count": 31,
      "outputs": [
        {
          "output_type": "execute_result",
          "data": {
            "text/plain": [
              "array([0.97515976, 0.86621369, 0.91939538, 0.83326085, 0.88071103])"
            ]
          },
          "metadata": {},
          "execution_count": 31
        }
      ]
    },
    {
      "cell_type": "markdown",
      "source": [
        "Arcsin Function"
      ],
      "metadata": {
        "id": "q6egUZtdZWrI"
      }
    },
    {
      "cell_type": "code",
      "source": [
        "np.arcsin(n)"
      ],
      "metadata": {
        "colab": {
          "base_uri": "https://localhost:8080/"
        },
        "id": "P3-0-AslZYj-",
        "outputId": "8a52eb2c-faa6-4dcf-e89b-f0224f6d9159"
      },
      "execution_count": 32,
      "outputs": [
        {
          "output_type": "execute_result",
          "data": {
            "text/plain": [
              "array([0.22525527, 0.55062749, 0.416165  , 0.62588735, 0.51603468])"
            ]
          },
          "metadata": {},
          "execution_count": 32
        }
      ]
    },
    {
      "cell_type": "markdown",
      "source": [
        "## **Logical Operators**"
      ],
      "metadata": {
        "id": "lIPgWVBMZmiH"
      }
    },
    {
      "cell_type": "markdown",
      "source": [
        "Greater Function"
      ],
      "metadata": {
        "id": "jQmS0jUNZuMa"
      }
    },
    {
      "cell_type": "code",
      "source": [
        "o = np.random.rand(10)\n",
        "p = np.random.rand(10)\n",
        "\n",
        "q = np.greater(o,p)\n",
        "print(q)"
      ],
      "metadata": {
        "colab": {
          "base_uri": "https://localhost:8080/"
        },
        "id": "0QzaeRQNZqy8",
        "outputId": "44148e97-3c3c-4c89-8b73-e5e994e68dae"
      },
      "execution_count": 36,
      "outputs": [
        {
          "output_type": "stream",
          "name": "stdout",
          "text": [
            "[ True  True False  True False  True False  True  True False]\n"
          ]
        }
      ]
    },
    {
      "cell_type": "markdown",
      "source": [
        "Not Operator"
      ],
      "metadata": {
        "id": "J5ndZ5hZahMv"
      }
    },
    {
      "cell_type": "code",
      "source": [
        "r = ~q\n",
        "r = np.logical_not(q)\n",
        "print(r)"
      ],
      "metadata": {
        "colab": {
          "base_uri": "https://localhost:8080/"
        },
        "id": "0i5_1Sc5aHbm",
        "outputId": "a497df14-5d29-4530-b196-f193b3855a49"
      },
      "execution_count": 44,
      "outputs": [
        {
          "output_type": "stream",
          "name": "stdout",
          "text": [
            "[False False  True False  True False  True False False  True]\n"
          ]
        }
      ]
    },
    {
      "cell_type": "markdown",
      "source": [
        "## **Missing Values**"
      ],
      "metadata": {
        "id": "PAU0lu74bugd"
      }
    },
    {
      "cell_type": "markdown",
      "source": [
        "np.nan can be used to add NaN values to an array"
      ],
      "metadata": {
        "id": "Uy7VqftGb6ee"
      }
    },
    {
      "cell_type": "code",
      "source": [
        "s = np.random.rand(10)\n",
        "s[3] = np.nan"
      ],
      "metadata": {
        "id": "9HZ0Pu8wbyct"
      },
      "execution_count": 45,
      "outputs": []
    },
    {
      "cell_type": "code",
      "source": [
        "s"
      ],
      "metadata": {
        "colab": {
          "base_uri": "https://localhost:8080/"
        },
        "id": "dK8GKcI6b4cY",
        "outputId": "9953f4e4-4444-46ab-892c-87b33da90681"
      },
      "execution_count": 46,
      "outputs": [
        {
          "output_type": "execute_result",
          "data": {
            "text/plain": [
              "array([0.86910584, 0.08972203, 0.31614856,        nan, 0.6778681 ,\n",
              "       0.93741609, 0.29976402, 0.4014397 , 0.10804205, 0.88298934])"
            ]
          },
          "metadata": {},
          "execution_count": 46
        }
      ]
    },
    {
      "cell_type": "markdown",
      "source": [
        "np.isnan() will return an array with True if a value is NaN or false if it's not"
      ],
      "metadata": {
        "id": "oAgpdT1yb_Rg"
      }
    },
    {
      "cell_type": "code",
      "source": [
        "np.isnan(s)"
      ],
      "metadata": {
        "colab": {
          "base_uri": "https://localhost:8080/"
        },
        "id": "RLdlMGhkcOKe",
        "outputId": "4df16a87-d770-4def-8317-54074792bded"
      },
      "execution_count": 48,
      "outputs": [
        {
          "output_type": "execute_result",
          "data": {
            "text/plain": [
              "array([False, False, False,  True, False, False, False, False, False,\n",
              "       False])"
            ]
          },
          "metadata": {},
          "execution_count": 48
        }
      ]
    },
    {
      "cell_type": "markdown",
      "source": [
        "Normally, sum all the values of an array when we have a NaN value will return \"nan\", but we can use the nansum to do so."
      ],
      "metadata": {
        "id": "340GW4qocWZP"
      }
    },
    {
      "cell_type": "code",
      "source": [
        "np.sum(s)"
      ],
      "metadata": {
        "colab": {
          "base_uri": "https://localhost:8080/"
        },
        "id": "pnH1tmTGcqG7",
        "outputId": "e6ccde6d-7ee2-457f-8d5d-e9beacc00a15"
      },
      "execution_count": 50,
      "outputs": [
        {
          "output_type": "execute_result",
          "data": {
            "text/plain": [
              "nan"
            ]
          },
          "metadata": {},
          "execution_count": 50
        }
      ]
    },
    {
      "cell_type": "code",
      "source": [
        "np.nansum(s)"
      ],
      "metadata": {
        "colab": {
          "base_uri": "https://localhost:8080/"
        },
        "id": "IPlhbeuTciZb",
        "outputId": "31e27d20-1248-47f3-e243-d858cd5c8802"
      },
      "execution_count": 51,
      "outputs": [
        {
          "output_type": "execute_result",
          "data": {
            "text/plain": [
              "4.582495728911073"
            ]
          },
          "metadata": {},
          "execution_count": 51
        }
      ]
    },
    {
      "cell_type": "markdown",
      "source": [
        "## **Rounding Floating point numbers**"
      ],
      "metadata": {
        "id": "7zMvrQVzdGrw"
      }
    },
    {
      "cell_type": "markdown",
      "source": [
        "np.floor() will round the values down"
      ],
      "metadata": {
        "id": "B_-h5E_zdL4F"
      }
    },
    {
      "cell_type": "code",
      "source": [
        "t = 10 * np.random.rand(100)\n",
        "print(t)"
      ],
      "metadata": {
        "colab": {
          "base_uri": "https://localhost:8080/"
        },
        "id": "-FeKnP7XdKqF",
        "outputId": "b92fb059-3af9-4fb2-b092-0d07a1f65c30"
      },
      "execution_count": 54,
      "outputs": [
        {
          "output_type": "stream",
          "name": "stdout",
          "text": [
            "[5.99877215 6.6935814  9.17262744 2.08335014 9.28774822 4.52298132\n",
            " 9.03330805 3.21274312 7.87421898 4.43363321 4.1072582  7.54532379\n",
            " 5.79702495 2.94164492 6.00158805 5.48263583 9.29950747 9.64919032\n",
            " 2.75644417 5.56677289 8.82596885 1.48783208 1.28582115 0.12187295\n",
            " 5.09012495 5.03337568 1.9550052  9.29754287 2.25551265 9.24054081\n",
            " 5.514022   1.51736792 2.10658674 6.26732254 7.22556626 0.87757482\n",
            " 4.37136472 5.26863999 2.38741567 8.42503212 3.94971725 6.04108655\n",
            " 6.87681759 8.17692136 3.83481443 0.95634536 4.82899918 3.62877796\n",
            " 8.32364972 1.62744185 9.2473153  0.60919951 9.38235342 0.19727958\n",
            " 6.60905439 8.32376748 2.1092417  1.28232985 6.75909878 0.43133578\n",
            " 6.39358432 5.73361506 5.61408756 4.00379483 8.20726613 8.40006985\n",
            " 5.19001445 5.79633585 6.80644145 5.16754752 4.91208467 1.78207192\n",
            " 7.03252034 1.22804441 4.14532305 3.54036316 4.58874516 6.35846132\n",
            " 1.58095265 2.97603605 0.89036441 3.90166565 2.37303411 4.87977415\n",
            " 5.30832362 2.1508477  1.75634664 8.50808852 7.51081625 1.41764667\n",
            " 7.46140112 3.21115548 8.9608804  0.89494801 5.54525527 6.54365539\n",
            " 1.95235636 0.32811629 2.49626446 0.48532399]\n"
          ]
        }
      ]
    },
    {
      "cell_type": "code",
      "source": [
        "np.floor(t)"
      ],
      "metadata": {
        "colab": {
          "base_uri": "https://localhost:8080/"
        },
        "id": "nKvn-Wm7dYbp",
        "outputId": "dcbb8e31-c0c0-4c09-d030-d7ca1ee70070"
      },
      "execution_count": 55,
      "outputs": [
        {
          "output_type": "execute_result",
          "data": {
            "text/plain": [
              "array([5., 6., 9., 2., 9., 4., 9., 3., 7., 4., 4., 7., 5., 2., 6., 5., 9.,\n",
              "       9., 2., 5., 8., 1., 1., 0., 5., 5., 1., 9., 2., 9., 5., 1., 2., 6.,\n",
              "       7., 0., 4., 5., 2., 8., 3., 6., 6., 8., 3., 0., 4., 3., 8., 1., 9.,\n",
              "       0., 9., 0., 6., 8., 2., 1., 6., 0., 6., 5., 5., 4., 8., 8., 5., 5.,\n",
              "       6., 5., 4., 1., 7., 1., 4., 3., 4., 6., 1., 2., 0., 3., 2., 4., 5.,\n",
              "       2., 1., 8., 7., 1., 7., 3., 8., 0., 5., 6., 1., 0., 2., 0.])"
            ]
          },
          "metadata": {},
          "execution_count": 55
        }
      ]
    },
    {
      "cell_type": "markdown",
      "source": [
        "Meanwhile, np.ceil() will round the values up"
      ],
      "metadata": {
        "id": "dmrOf6etdbYh"
      }
    },
    {
      "cell_type": "code",
      "source": [
        "np.ceil(t)"
      ],
      "metadata": {
        "colab": {
          "base_uri": "https://localhost:8080/"
        },
        "id": "_W3bvGzqdfuP",
        "outputId": "0e5e8554-929c-4a3b-ef8a-981a37e0714d"
      },
      "execution_count": 56,
      "outputs": [
        {
          "output_type": "execute_result",
          "data": {
            "text/plain": [
              "array([ 6.,  7., 10.,  3., 10.,  5., 10.,  4.,  8.,  5.,  5.,  8.,  6.,\n",
              "        3.,  7.,  6., 10., 10.,  3.,  6.,  9.,  2.,  2.,  1.,  6.,  6.,\n",
              "        2., 10.,  3., 10.,  6.,  2.,  3.,  7.,  8.,  1.,  5.,  6.,  3.,\n",
              "        9.,  4.,  7.,  7.,  9.,  4.,  1.,  5.,  4.,  9.,  2., 10.,  1.,\n",
              "       10.,  1.,  7.,  9.,  3.,  2.,  7.,  1.,  7.,  6.,  6.,  5.,  9.,\n",
              "        9.,  6.,  6.,  7.,  6.,  5.,  2.,  8.,  2.,  5.,  4.,  5.,  7.,\n",
              "        2.,  3.,  1.,  4.,  3.,  5.,  6.,  3.,  2.,  9.,  8.,  2.,  8.,\n",
              "        4.,  9.,  1.,  6.,  7.,  2.,  1.,  3.,  1.])"
            ]
          },
          "metadata": {},
          "execution_count": 56
        }
      ]
    }
  ]
}
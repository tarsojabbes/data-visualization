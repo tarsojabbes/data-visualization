{
  "nbformat": 4,
  "nbformat_minor": 0,
  "metadata": {
    "colab": {
      "name": "NumPy.ipynb",
      "provenance": [],
      "authorship_tag": "ABX9TyMFifDxQtFXYR/pbH4pJeI/",
      "include_colab_link": true
    },
    "kernelspec": {
      "name": "python3",
      "display_name": "Python 3"
    },
    "language_info": {
      "name": "python"
    }
  },
  "cells": [
    {
      "cell_type": "markdown",
      "metadata": {
        "id": "view-in-github",
        "colab_type": "text"
      },
      "source": [
        "<a href=\"https://colab.research.google.com/github/tarsojabbes/data-visualization/blob/main/NumPy.ipynb\" target=\"_parent\"><img src=\"https://colab.research.google.com/assets/colab-badge.svg\" alt=\"Open In Colab\"/></a>"
      ]
    },
    {
      "cell_type": "markdown",
      "source": [
        "# **NumPy**"
      ],
      "metadata": {
        "id": "SxlDGTaOM5dG"
      }
    },
    {
      "cell_type": "markdown",
      "source": [
        "## **Arithmetic Functions**"
      ],
      "metadata": {
        "id": "A4AnoQw7NPzb"
      }
    },
    {
      "cell_type": "code",
      "execution_count": 2,
      "metadata": {
        "id": "k7yRr435M3f1"
      },
      "outputs": [],
      "source": [
        "import numpy as np"
      ]
    },
    {
      "cell_type": "code",
      "source": [
        "a = np.arange(10)"
      ],
      "metadata": {
        "id": "pIwcK2iZNxVE"
      },
      "execution_count": 3,
      "outputs": []
    },
    {
      "cell_type": "code",
      "source": [
        "b = np.random.randint(0,10,(1,10)) # From 0 to 9 in the shape of 1 by 10"
      ],
      "metadata": {
        "id": "ppruWWcuN3CI"
      },
      "execution_count": 5,
      "outputs": []
    },
    {
      "cell_type": "code",
      "source": [
        "c = a[np.newaxis, :]\n",
        "print(c.shape) # Now, C will be also 1 by 10, meanwhile a is (10,)"
      ],
      "metadata": {
        "colab": {
          "base_uri": "https://localhost:8080/"
        },
        "id": "GxbIkX8_OBX7",
        "outputId": "5ded5cca-14fe-45f2-aaa0-c50ebf346d2e"
      },
      "execution_count": 8,
      "outputs": [
        {
          "output_type": "stream",
          "name": "stdout",
          "text": [
            "(1, 10)\n"
          ]
        }
      ]
    },
    {
      "cell_type": "code",
      "source": [
        "d = b + c\n",
        "print(d)"
      ],
      "metadata": {
        "colab": {
          "base_uri": "https://localhost:8080/"
        },
        "id": "ufHM6nzxOW0t",
        "outputId": "7031cd41-af84-4449-a6d7-b660322bdd04"
      },
      "execution_count": 11,
      "outputs": [
        {
          "output_type": "stream",
          "name": "stdout",
          "text": [
            "[[ 3 10  3 11 12  6 15  7  9 11]]\n"
          ]
        }
      ]
    },
    {
      "cell_type": "code",
      "source": [
        "d = d.squeeze # it'll supress the newaxis created before"
      ],
      "metadata": {
        "id": "M4vVSXQKOhEk"
      },
      "execution_count": 12,
      "outputs": []
    },
    {
      "cell_type": "markdown",
      "source": [
        "Add Function -> It'll add two array into one; it's the same as b + c, no differencec."
      ],
      "metadata": {
        "id": "maEqC9SeO59b"
      }
    },
    {
      "cell_type": "code",
      "source": [
        "e = np.add(b, c)\n",
        "print(e)"
      ],
      "metadata": {
        "colab": {
          "base_uri": "https://localhost:8080/"
        },
        "id": "MRMVCipwO74R",
        "outputId": "4eb3783e-51a9-42a4-8cab-aa6c8be0a944"
      },
      "execution_count": 17,
      "outputs": [
        {
          "output_type": "stream",
          "name": "stdout",
          "text": [
            "[[ 3 10  3 11 12  6 15  7  9 11]]\n"
          ]
        }
      ]
    },
    {
      "cell_type": "markdown",
      "source": [
        "Sum Function -> It'll sum all the values of a given array."
      ],
      "metadata": {
        "id": "fLKBrIZxPNdA"
      }
    },
    {
      "cell_type": "code",
      "source": [
        "f = np.sum(b)\n",
        "print(f)"
      ],
      "metadata": {
        "colab": {
          "base_uri": "https://localhost:8080/"
        },
        "id": "2JkF4YD-POw4",
        "outputId": "afb6a939-9875-4db8-f162-45f523e6145f"
      },
      "execution_count": 19,
      "outputs": [
        {
          "output_type": "stream",
          "name": "stdout",
          "text": [
            "42\n"
          ]
        }
      ]
    },
    {
      "cell_type": "code",
      "source": [
        "g = np.arange(100).reshape(2,2,5,5) # 4D array, axis will go from 0 to 3"
      ],
      "metadata": {
        "id": "hp4WigN_PwA8"
      },
      "execution_count": 21,
      "outputs": []
    },
    {
      "cell_type": "code",
      "source": [
        "h =  g.sum(axis=0) # We'll lose the first dimension, and this will return a 2 by 5 by 5 array"
      ],
      "metadata": {
        "id": "z7LwZXdPQZQt"
      },
      "execution_count": 22,
      "outputs": []
    },
    {
      "cell_type": "markdown",
      "source": [
        "Subtract Function -> It'll subtract the values of two given arrays by they respective relative by the index."
      ],
      "metadata": {
        "id": "MiMxMP_hS7f8"
      }
    },
    {
      "cell_type": "code",
      "source": [
        "i = np.random.rand(10)\n",
        "j = np.random.rand(10)\n",
        "k = np.subtract(i,j)\n",
        "print(k)"
      ],
      "metadata": {
        "colab": {
          "base_uri": "https://localhost:8080/"
        },
        "id": "ZBcpqTTdSBPO",
        "outputId": "d45ac8f5-74c5-45e0-9f8e-d6bc74d58069"
      },
      "execution_count": 25,
      "outputs": [
        {
          "output_type": "stream",
          "name": "stdout",
          "text": [
            "[-0.564153   -0.86104192  0.16573159 -0.1406437  -0.1646671  -0.21734146\n",
            "  0.08995004  0.44351403  0.39149186  0.15191282]\n"
          ]
        }
      ]
    },
    {
      "cell_type": "markdown",
      "source": [
        "Multiply Function"
      ],
      "metadata": {
        "id": "kYELFETITHsk"
      }
    },
    {
      "cell_type": "code",
      "source": [
        "l = np.multiply(i,j)\n",
        "print(l)"
      ],
      "metadata": {
        "colab": {
          "base_uri": "https://localhost:8080/"
        },
        "id": "umHtoBZqTJy0",
        "outputId": "d1b4ad37-f71e-438c-a83a-6a8828cb0943"
      },
      "execution_count": 26,
      "outputs": [
        {
          "output_type": "stream",
          "name": "stdout",
          "text": [
            "[0.1442083  0.13659029 0.22339064 0.45634476 0.34291543 0.0610035\n",
            " 0.00084339 0.37901794 0.01296415 0.00287046]\n"
          ]
        }
      ]
    },
    {
      "cell_type": "markdown",
      "source": [
        "Power function"
      ],
      "metadata": {
        "id": "znUsR1KnTcsK"
      }
    },
    {
      "cell_type": "code",
      "source": [
        "m = np.power(i,j)\n",
        "print(m)"
      ],
      "metadata": {
        "colab": {
          "base_uri": "https://localhost:8080/"
        },
        "id": "uQSZJ3ZzTVAc",
        "outputId": "f39dd572-22f1-42ff-d6e3-f47fff407c36"
      },
      "execution_count": 28,
      "outputs": [
        {
          "output_type": "stream",
          "name": "stdout",
          "text": [
            "[0.28644605 0.13744346 0.79591886 0.68943842 0.6344975  0.50112664\n",
            " 0.9803539  0.94439364 0.97387001 0.97022939]\n"
          ]
        }
      ]
    }
  ]
}
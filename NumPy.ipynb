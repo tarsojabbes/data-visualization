{
  "nbformat": 4,
  "nbformat_minor": 0,
  "metadata": {
    "colab": {
      "name": "NumPy.ipynb",
      "provenance": [],
      "authorship_tag": "ABX9TyOFtgAQPYKfdvUR59hhgGiw",
      "include_colab_link": true
    },
    "kernelspec": {
      "name": "python3",
      "display_name": "Python 3"
    },
    "language_info": {
      "name": "python"
    }
  },
  "cells": [
    {
      "cell_type": "markdown",
      "metadata": {
        "id": "view-in-github",
        "colab_type": "text"
      },
      "source": [
        "<a href=\"https://colab.research.google.com/github/tarsojabbes/data-visualization/blob/main/NumPy.ipynb\" target=\"_parent\"><img src=\"https://colab.research.google.com/assets/colab-badge.svg\" alt=\"Open In Colab\"/></a>"
      ]
    },
    {
      "cell_type": "markdown",
      "source": [
        "# **NumPy**"
      ],
      "metadata": {
        "id": "SxlDGTaOM5dG"
      }
    },
    {
      "cell_type": "markdown",
      "source": [
        "## **Arithmetic Functions**"
      ],
      "metadata": {
        "id": "A4AnoQw7NPzb"
      }
    },
    {
      "cell_type": "code",
      "execution_count": 1,
      "metadata": {
        "id": "k7yRr435M3f1"
      },
      "outputs": [],
      "source": [
        "import numpy as np"
      ]
    },
    {
      "cell_type": "code",
      "source": [
        "a = np.arange(10)"
      ],
      "metadata": {
        "id": "pIwcK2iZNxVE"
      },
      "execution_count": 2,
      "outputs": []
    },
    {
      "cell_type": "code",
      "source": [
        "b = np.random.randint(0,10,(1,10)) # From 0 to 9 in the shape of 1 by 10"
      ],
      "metadata": {
        "id": "ppruWWcuN3CI"
      },
      "execution_count": 3,
      "outputs": []
    },
    {
      "cell_type": "code",
      "source": [
        "c = a[np.newaxis, :]\n",
        "print(c.shape) # Now, C will be also 1 by 10, meanwhile a is (10,)"
      ],
      "metadata": {
        "colab": {
          "base_uri": "https://localhost:8080/"
        },
        "id": "GxbIkX8_OBX7",
        "outputId": "2c4eb0d2-65d7-4349-ed44-e634fdecc5d3"
      },
      "execution_count": 4,
      "outputs": [
        {
          "output_type": "stream",
          "name": "stdout",
          "text": [
            "(1, 10)\n"
          ]
        }
      ]
    },
    {
      "cell_type": "code",
      "source": [
        "d = b + c\n",
        "print(d)"
      ],
      "metadata": {
        "colab": {
          "base_uri": "https://localhost:8080/"
        },
        "id": "ufHM6nzxOW0t",
        "outputId": "a7aae28c-a299-4f89-fb0b-ed3b8327db01"
      },
      "execution_count": 5,
      "outputs": [
        {
          "output_type": "stream",
          "name": "stdout",
          "text": [
            "[[ 8  1  3  7 12 13  7 10 10 13]]\n"
          ]
        }
      ]
    },
    {
      "cell_type": "code",
      "source": [
        "d = d.squeeze # it'll supress the newaxis created before"
      ],
      "metadata": {
        "id": "M4vVSXQKOhEk"
      },
      "execution_count": 6,
      "outputs": []
    },
    {
      "cell_type": "markdown",
      "source": [
        "Add Function -> It'll add two array into one; it's the same as b + c, no differencec."
      ],
      "metadata": {
        "id": "maEqC9SeO59b"
      }
    },
    {
      "cell_type": "code",
      "source": [
        "e = np.add(b, c)\n",
        "print(e)"
      ],
      "metadata": {
        "colab": {
          "base_uri": "https://localhost:8080/"
        },
        "id": "MRMVCipwO74R",
        "outputId": "4a1dae44-efa2-4388-add4-0df2310c0c1c"
      },
      "execution_count": 7,
      "outputs": [
        {
          "output_type": "stream",
          "name": "stdout",
          "text": [
            "[[ 8  1  3  7 12 13  7 10 10 13]]\n"
          ]
        }
      ]
    },
    {
      "cell_type": "markdown",
      "source": [
        "Sum Function -> It'll sum all the values of a given array."
      ],
      "metadata": {
        "id": "fLKBrIZxPNdA"
      }
    },
    {
      "cell_type": "code",
      "source": [
        "f = np.sum(b)\n",
        "print(f)"
      ],
      "metadata": {
        "colab": {
          "base_uri": "https://localhost:8080/"
        },
        "id": "2JkF4YD-POw4",
        "outputId": "9e46193c-eb96-47fb-bc92-edfb56232353"
      },
      "execution_count": 8,
      "outputs": [
        {
          "output_type": "stream",
          "name": "stdout",
          "text": [
            "39\n"
          ]
        }
      ]
    },
    {
      "cell_type": "code",
      "source": [
        "g = np.arange(100).reshape(2,2,5,5) # 4D array, axis will go from 0 to 3"
      ],
      "metadata": {
        "id": "hp4WigN_PwA8"
      },
      "execution_count": 9,
      "outputs": []
    },
    {
      "cell_type": "code",
      "source": [
        "h =  g.sum(axis=0) # We'll lose the first dimension, and this will return a 2 by 5 by 5 array"
      ],
      "metadata": {
        "id": "z7LwZXdPQZQt"
      },
      "execution_count": 10,
      "outputs": []
    },
    {
      "cell_type": "markdown",
      "source": [
        "Subtract Function -> It'll subtract the values of two given arrays by they respective relative by the index."
      ],
      "metadata": {
        "id": "MiMxMP_hS7f8"
      }
    },
    {
      "cell_type": "code",
      "source": [
        "i = np.random.rand(10)\n",
        "j = np.random.rand(10)\n",
        "k = np.subtract(i,j)\n",
        "print(k)"
      ],
      "metadata": {
        "colab": {
          "base_uri": "https://localhost:8080/"
        },
        "id": "ZBcpqTTdSBPO",
        "outputId": "cd3310ef-07da-4675-cc4d-ac5b655aeb84"
      },
      "execution_count": 11,
      "outputs": [
        {
          "output_type": "stream",
          "name": "stdout",
          "text": [
            "[ 0.04099908  0.54594641 -0.60708563  0.87756908 -0.58868012  0.09774862\n",
            "  0.09655851  0.0543352  -0.15354811 -0.8265418 ]\n"
          ]
        }
      ]
    },
    {
      "cell_type": "markdown",
      "source": [
        "Multiply Function"
      ],
      "metadata": {
        "id": "kYELFETITHsk"
      }
    },
    {
      "cell_type": "code",
      "source": [
        "l = np.multiply(i,j)\n",
        "print(l)"
      ],
      "metadata": {
        "colab": {
          "base_uri": "https://localhost:8080/"
        },
        "id": "umHtoBZqTJy0",
        "outputId": "3a11faf6-552a-4580-9fd9-ffba713a6944"
      },
      "execution_count": 12,
      "outputs": [
        {
          "output_type": "stream",
          "name": "stdout",
          "text": [
            "[0.53274486 0.06257263 0.08041524 0.09259565 0.04818852 0.81117277\n",
            " 0.00126447 0.01784866 0.39073301 0.06167541]\n"
          ]
        }
      ]
    },
    {
      "cell_type": "markdown",
      "source": [
        "Power function"
      ],
      "metadata": {
        "id": "znUsR1KnTcsK"
      }
    },
    {
      "cell_type": "code",
      "source": [
        "m = np.power(i,j)\n",
        "print(m)"
      ],
      "metadata": {
        "colab": {
          "base_uri": "https://localhost:8080/"
        },
        "id": "uQSZJ3ZzTVAc",
        "outputId": "c5639680-ab69-43e6-e5da-db766d87a4d9"
      },
      "execution_count": 13,
      "outputs": [
        {
          "output_type": "stream",
          "name": "stdout",
          "text": [
            "[0.81585502 0.9579828  0.20703109 0.99737433 0.17678597 0.95791637\n",
            " 0.97436059 0.82062252 0.65799977 0.0911166 ]\n"
          ]
        }
      ]
    },
    {
      "cell_type": "markdown",
      "source": [
        "## **Trigonometric Functions**"
      ],
      "metadata": {
        "id": "0m3Vg6TtYKAz"
      }
    },
    {
      "cell_type": "code",
      "source": [
        "n = np.random.rand(5)"
      ],
      "metadata": {
        "id": "vwIhiqNTYNxY"
      },
      "execution_count": 14,
      "outputs": []
    },
    {
      "cell_type": "markdown",
      "source": [
        "Sin Function"
      ],
      "metadata": {
        "id": "Q7S5NUffY8rD"
      }
    },
    {
      "cell_type": "code",
      "source": [
        "np.sin(n)"
      ],
      "metadata": {
        "colab": {
          "base_uri": "https://localhost:8080/"
        },
        "id": "dgKzO0VSY4xv",
        "outputId": "5185b3f5-ea10-4938-fbd7-e89f9013bd80"
      },
      "execution_count": 15,
      "outputs": [
        {
          "output_type": "execute_result",
          "data": {
            "text/plain": [
              "array([0.31105602, 0.79185715, 0.82555781, 0.11245386, 0.13223721])"
            ]
          },
          "metadata": {},
          "execution_count": 15
        }
      ]
    },
    {
      "cell_type": "markdown",
      "source": [
        "Cos Function"
      ],
      "metadata": {
        "id": "uLbKUJCuZCnb"
      }
    },
    {
      "cell_type": "code",
      "source": [
        "np.cos(n)"
      ],
      "metadata": {
        "colab": {
          "base_uri": "https://localhost:8080/"
        },
        "id": "Tp-uBUsUZEWQ",
        "outputId": "f5bdd75e-fc36-47b6-b33c-a7d9b5c16b4a"
      },
      "execution_count": 16,
      "outputs": [
        {
          "output_type": "execute_result",
          "data": {
            "text/plain": [
              "array([0.95039158, 0.61070636, 0.56431756, 0.99365695, 0.9912181 ])"
            ]
          },
          "metadata": {},
          "execution_count": 16
        }
      ]
    },
    {
      "cell_type": "markdown",
      "source": [
        "Arcsin Function"
      ],
      "metadata": {
        "id": "q6egUZtdZWrI"
      }
    },
    {
      "cell_type": "code",
      "source": [
        "np.arcsin(n)"
      ],
      "metadata": {
        "colab": {
          "base_uri": "https://localhost:8080/"
        },
        "id": "P3-0-AslZYj-",
        "outputId": "184c437b-ae3d-4021-909f-5c7ca9ad0e42"
      },
      "execution_count": 17,
      "outputs": [
        {
          "output_type": "execute_result",
          "data": {
            "text/plain": [
              "array([0.32183088, 1.15265193, 1.33017439, 0.11293213, 0.13301759])"
            ]
          },
          "metadata": {},
          "execution_count": 17
        }
      ]
    },
    {
      "cell_type": "markdown",
      "source": [
        "## **Logical Operators**"
      ],
      "metadata": {
        "id": "lIPgWVBMZmiH"
      }
    },
    {
      "cell_type": "markdown",
      "source": [
        "Greater Function"
      ],
      "metadata": {
        "id": "jQmS0jUNZuMa"
      }
    },
    {
      "cell_type": "code",
      "source": [
        "o = np.random.rand(10)\n",
        "p = np.random.rand(10)\n",
        "\n",
        "q = np.greater(o,p)\n",
        "print(q)"
      ],
      "metadata": {
        "colab": {
          "base_uri": "https://localhost:8080/"
        },
        "id": "0QzaeRQNZqy8",
        "outputId": "09fa5a83-9186-430c-a43a-1f45aad7da32"
      },
      "execution_count": 18,
      "outputs": [
        {
          "output_type": "stream",
          "name": "stdout",
          "text": [
            "[ True False  True False  True  True False False  True False]\n"
          ]
        }
      ]
    },
    {
      "cell_type": "markdown",
      "source": [
        "Not Operator"
      ],
      "metadata": {
        "id": "J5ndZ5hZahMv"
      }
    },
    {
      "cell_type": "code",
      "source": [
        "r = ~q\n",
        "r = np.logical_not(q)\n",
        "print(r)"
      ],
      "metadata": {
        "colab": {
          "base_uri": "https://localhost:8080/"
        },
        "id": "0i5_1Sc5aHbm",
        "outputId": "36a8c543-6c30-45c9-fbe5-b45c0654ce7b"
      },
      "execution_count": 19,
      "outputs": [
        {
          "output_type": "stream",
          "name": "stdout",
          "text": [
            "[False  True False  True False False  True  True False  True]\n"
          ]
        }
      ]
    },
    {
      "cell_type": "markdown",
      "source": [
        "## **Missing Values**"
      ],
      "metadata": {
        "id": "PAU0lu74bugd"
      }
    },
    {
      "cell_type": "markdown",
      "source": [
        "np.nan can be used to add NaN values to an array"
      ],
      "metadata": {
        "id": "Uy7VqftGb6ee"
      }
    },
    {
      "cell_type": "code",
      "source": [
        "s = np.random.rand(10)\n",
        "s[3] = np.nan"
      ],
      "metadata": {
        "id": "9HZ0Pu8wbyct"
      },
      "execution_count": 20,
      "outputs": []
    },
    {
      "cell_type": "code",
      "source": [
        "s"
      ],
      "metadata": {
        "colab": {
          "base_uri": "https://localhost:8080/"
        },
        "id": "dK8GKcI6b4cY",
        "outputId": "cc183dec-d1b5-46a7-8a72-ccf13799b8dd"
      },
      "execution_count": 21,
      "outputs": [
        {
          "output_type": "execute_result",
          "data": {
            "text/plain": [
              "array([0.9361438 , 0.77013511, 0.68926889,        nan, 0.86599956,\n",
              "       0.75476643, 0.17651784, 0.10824925, 0.88842254, 0.11906582])"
            ]
          },
          "metadata": {},
          "execution_count": 21
        }
      ]
    },
    {
      "cell_type": "markdown",
      "source": [
        "np.isnan() will return an array with True if a value is NaN or false if it's not"
      ],
      "metadata": {
        "id": "oAgpdT1yb_Rg"
      }
    },
    {
      "cell_type": "code",
      "source": [
        "np.isnan(s)"
      ],
      "metadata": {
        "colab": {
          "base_uri": "https://localhost:8080/"
        },
        "id": "RLdlMGhkcOKe",
        "outputId": "82f8df2c-70bd-42b5-dff7-2a2bb23b53e5"
      },
      "execution_count": 22,
      "outputs": [
        {
          "output_type": "execute_result",
          "data": {
            "text/plain": [
              "array([False, False, False,  True, False, False, False, False, False,\n",
              "       False])"
            ]
          },
          "metadata": {},
          "execution_count": 22
        }
      ]
    },
    {
      "cell_type": "markdown",
      "source": [
        "Normally, sum all the values of an array when we have a NaN value will return \"nan\", but we can use the nansum to do so."
      ],
      "metadata": {
        "id": "340GW4qocWZP"
      }
    },
    {
      "cell_type": "code",
      "source": [
        "np.sum(s)"
      ],
      "metadata": {
        "colab": {
          "base_uri": "https://localhost:8080/"
        },
        "id": "pnH1tmTGcqG7",
        "outputId": "2ab821a0-4044-4363-de06-fa8df62b4b74"
      },
      "execution_count": 23,
      "outputs": [
        {
          "output_type": "execute_result",
          "data": {
            "text/plain": [
              "nan"
            ]
          },
          "metadata": {},
          "execution_count": 23
        }
      ]
    },
    {
      "cell_type": "code",
      "source": [
        "np.nansum(s)"
      ],
      "metadata": {
        "colab": {
          "base_uri": "https://localhost:8080/"
        },
        "id": "IPlhbeuTciZb",
        "outputId": "596b9583-d078-428b-cd89-7a420ae9b940"
      },
      "execution_count": 24,
      "outputs": [
        {
          "output_type": "execute_result",
          "data": {
            "text/plain": [
              "5.308569241481064"
            ]
          },
          "metadata": {},
          "execution_count": 24
        }
      ]
    },
    {
      "cell_type": "markdown",
      "source": [
        "## **Rounding Floating point numbers**"
      ],
      "metadata": {
        "id": "7zMvrQVzdGrw"
      }
    },
    {
      "cell_type": "markdown",
      "source": [
        "np.floor() will round the values down"
      ],
      "metadata": {
        "id": "B_-h5E_zdL4F"
      }
    },
    {
      "cell_type": "code",
      "source": [
        "t = 10 * np.random.rand(100)\n",
        "print(t)"
      ],
      "metadata": {
        "colab": {
          "base_uri": "https://localhost:8080/"
        },
        "id": "-FeKnP7XdKqF",
        "outputId": "0797edf7-6231-4046-937b-2282aa351dee"
      },
      "execution_count": 25,
      "outputs": [
        {
          "output_type": "stream",
          "name": "stdout",
          "text": [
            "[8.5950012  4.84683935 3.39735149 4.90913948 3.39041713 3.10229074\n",
            " 0.89369174 9.42609251 2.76833861 9.64448377 4.86244668 8.34104956\n",
            " 7.35233784 2.11094578 7.61643536 9.98212806 9.24905842 8.63957436\n",
            " 3.60408504 7.60981169 8.27048271 9.72484535 9.32072472 4.70677116\n",
            " 0.18066    8.05027001 2.55226736 2.13237731 9.24545847 0.376524\n",
            " 8.68576631 2.64716854 9.3743021  6.83690166 0.72477147 4.32048928\n",
            " 0.89496681 5.96561707 2.13915641 5.75806794 4.6819635  8.44763526\n",
            " 7.22489207 3.77933471 7.4659332  1.05508805 6.92844504 9.81976703\n",
            " 0.41585439 0.94396812 5.68220719 1.97603487 3.84329603 6.92998953\n",
            " 0.50925342 7.11653692 6.19969027 0.67134779 7.04572278 7.86912993\n",
            " 1.81501827 8.10453979 6.35202616 9.91306904 7.43364184 6.89184161\n",
            " 9.45974843 7.9764952  3.68873701 9.70887031 6.47985708 2.69867355\n",
            " 8.95923328 9.16951736 1.88431857 2.24695544 8.85924796 5.2260153\n",
            " 4.63789229 6.32128496 8.90265399 2.92003504 4.83620755 9.95597879\n",
            " 7.72661727 5.9371312  0.71314393 7.2712183  8.95493983 8.31157898\n",
            " 1.30002574 3.69987147 9.54391301 8.17701346 5.08552119 9.62679831\n",
            " 7.795579   2.92942363 6.30574354 8.26595689]\n"
          ]
        }
      ]
    },
    {
      "cell_type": "code",
      "source": [
        "np.floor(t)"
      ],
      "metadata": {
        "colab": {
          "base_uri": "https://localhost:8080/"
        },
        "id": "nKvn-Wm7dYbp",
        "outputId": "03308982-2e19-4051-c1fe-3a5ba6de5f40"
      },
      "execution_count": 26,
      "outputs": [
        {
          "output_type": "execute_result",
          "data": {
            "text/plain": [
              "array([8., 4., 3., 4., 3., 3., 0., 9., 2., 9., 4., 8., 7., 2., 7., 9., 9.,\n",
              "       8., 3., 7., 8., 9., 9., 4., 0., 8., 2., 2., 9., 0., 8., 2., 9., 6.,\n",
              "       0., 4., 0., 5., 2., 5., 4., 8., 7., 3., 7., 1., 6., 9., 0., 0., 5.,\n",
              "       1., 3., 6., 0., 7., 6., 0., 7., 7., 1., 8., 6., 9., 7., 6., 9., 7.,\n",
              "       3., 9., 6., 2., 8., 9., 1., 2., 8., 5., 4., 6., 8., 2., 4., 9., 7.,\n",
              "       5., 0., 7., 8., 8., 1., 3., 9., 8., 5., 9., 7., 2., 6., 8.])"
            ]
          },
          "metadata": {},
          "execution_count": 26
        }
      ]
    },
    {
      "cell_type": "markdown",
      "source": [
        "Meanwhile, np.ceil() will round the values up"
      ],
      "metadata": {
        "id": "dmrOf6etdbYh"
      }
    },
    {
      "cell_type": "code",
      "source": [
        "np.ceil(t)"
      ],
      "metadata": {
        "colab": {
          "base_uri": "https://localhost:8080/"
        },
        "id": "_W3bvGzqdfuP",
        "outputId": "4c567094-6910-417d-8e51-a2ba14354f25"
      },
      "execution_count": 27,
      "outputs": [
        {
          "output_type": "execute_result",
          "data": {
            "text/plain": [
              "array([ 9.,  5.,  4.,  5.,  4.,  4.,  1., 10.,  3., 10.,  5.,  9.,  8.,\n",
              "        3.,  8., 10., 10.,  9.,  4.,  8.,  9., 10., 10.,  5.,  1.,  9.,\n",
              "        3.,  3., 10.,  1.,  9.,  3., 10.,  7.,  1.,  5.,  1.,  6.,  3.,\n",
              "        6.,  5.,  9.,  8.,  4.,  8.,  2.,  7., 10.,  1.,  1.,  6.,  2.,\n",
              "        4.,  7.,  1.,  8.,  7.,  1.,  8.,  8.,  2.,  9.,  7., 10.,  8.,\n",
              "        7., 10.,  8.,  4., 10.,  7.,  3.,  9., 10.,  2.,  3.,  9.,  6.,\n",
              "        5.,  7.,  9.,  3.,  5., 10.,  8.,  6.,  1.,  8.,  9.,  9.,  2.,\n",
              "        4., 10.,  9.,  6., 10.,  8.,  3.,  7.,  9.])"
            ]
          },
          "metadata": {},
          "execution_count": 27
        }
      ]
    },
    {
      "cell_type": "markdown",
      "source": [
        "## **Output Arguments**"
      ],
      "metadata": {
        "id": "gkW0PRV2GbYN"
      }
    },
    {
      "cell_type": "markdown",
      "source": [
        "The \"out\" argument can be used to specify where the output must be stored. This can become handy when using really large arrays, adding efficency to the process."
      ],
      "metadata": {
        "id": "vxd2WfdIG1pt"
      }
    },
    {
      "cell_type": "code",
      "source": [
        "u = np.arange(5)\n",
        "v = np.zeros(5)\n",
        "\n",
        "np.add(u, 10, out=v)"
      ],
      "metadata": {
        "colab": {
          "base_uri": "https://localhost:8080/"
        },
        "id": "1Q0qVV_uGd-O",
        "outputId": "5bbd2e06-e80e-408c-b2c4-43ef791b5de4"
      },
      "execution_count": 29,
      "outputs": [
        {
          "output_type": "execute_result",
          "data": {
            "text/plain": [
              "array([10., 11., 12., 13., 14.])"
            ]
          },
          "metadata": {},
          "execution_count": 29
        }
      ]
    }
  ]
}